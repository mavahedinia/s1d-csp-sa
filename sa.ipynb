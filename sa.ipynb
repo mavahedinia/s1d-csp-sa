{
 "cells": [
  {
   "cell_type": "code",
   "execution_count": 2,
   "metadata": {},
   "outputs": [],
   "source": [
    "from cases import *\n",
    "\n",
    "case = Debugger1\n"
   ]
  },
  {
   "cell_type": "code",
   "execution_count": 3,
   "metadata": {},
   "outputs": [],
   "source": [
    "import numpy as np\n",
    "from time import time \n",
    "np.random.seed(int(time()))\n",
    "\n",
    "class Gene:\n",
    "    fitness = 0\n",
    "    def __init__(self, perm) -> None:\n",
    "        self.perm = perm\n",
    "\n",
    "class SA:\n",
    "    def __init__(self, case: Case, T, alpha, mcn) -> None:\n",
    "        self.case = case\n",
    "        self.state = Gene(case.req.copy())\n",
    "        np.random.shuffle(self.gene.perm)\n",
    "        self.state.fitness = self.calculate_fitness(self.state)\n",
    "        self.fittest = self.state\n",
    "\n",
    "        self.T = T\n",
    "        self.alpha = alpha\n",
    "        self.N = mcn\n",
    "        self.n = 0\n",
    "\n",
    "    \n",
    "\n",
    "    def iterate(self):\n",
    "        neighbour = self.get_random_neighbour(self.state)\n",
    "        fitness = self.calculate_fitness(neighbour)\n"
   ]
  }
 ],
 "metadata": {
  "interpreter": {
   "hash": "2c97f0f384c094c4e34c27d9271a41045876e11bf2d29b2f046705da97cc890d"
  },
  "kernelspec": {
   "display_name": "Python 3.8.10 64-bit ('.venv': venv)",
   "language": "python",
   "name": "python3"
  },
  "language_info": {
   "codemirror_mode": {
    "name": "ipython",
    "version": 3
   },
   "file_extension": ".py",
   "mimetype": "text/x-python",
   "name": "python",
   "nbconvert_exporter": "python",
   "pygments_lexer": "ipython3",
   "version": "3.8.10"
  },
  "orig_nbformat": 4
 },
 "nbformat": 4,
 "nbformat_minor": 2
}
